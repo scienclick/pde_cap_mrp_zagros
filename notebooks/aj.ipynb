{
 "cells": [
  {
   "cell_type": "code",
   "execution_count": null,
   "metadata": {},
   "outputs": [],
   "source": []
  }
 ],
 "metadata": {
  "kernelspec": {
   "display_name": "Python 3.8.12 64-bit ('shims')",
   "language": "python",
   "name": "python3"
  },
  "language_info": {
   "name": "python",
   "version": "3.8.12"
  },
  "orig_nbformat": 4,
  "vscode": {
   "interpreter": {
    "hash": "cd8d3f85441a3ccb56bcccd13511547e2e9d980067116837260b630037391840"
   }
  }
 },
 "nbformat": 4,
 "nbformat_minor": 2
}
