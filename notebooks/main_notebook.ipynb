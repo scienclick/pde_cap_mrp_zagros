{
 "cells": [
  {
   "cell_type": "code",
   "execution_count": 1,
   "metadata": {},
   "outputs": [],
   "source": [
    "import pandas as pd\n"
   ]
  },
  {
   "cell_type": "code",
   "execution_count": 2,
   "metadata": {},
   "outputs": [
    {
     "name": "stderr",
     "output_type": "stream",
     "text": [
      "/tmp/ipykernel_23795/3009648048.py:5: DtypeWarning: Columns (7) have mixed types. Specify dtype option on import or set low_memory=False.\n",
      "  df_all_details = pd.read_csv(\"../data/AllMoviesDetailsCleaned.csv\", sep=\";\")\n"
     ]
    }
   ],
   "source": [
    "df_awards=pd.read_csv(\"../data/220k_awards_by_directors.csv\")\n",
    "df_500_fav=pd.read_csv(\"../data/500 favorite directors_with wikipedia summary.csv\", sep=\";\",header=0,names=['A', 'B'])\n",
    "df_900_acc=pd.read_csv(\"../data/900_acclaimed_directors_awards.csv\", sep=\";\")\n",
    "df_all_casting=pd.read_csv(\"../data/AllMoviesCastingRaw.csv\", sep=\";\")\n",
    "df_all_details = pd.read_csv(\"../data/AllMoviesDetailsCleaned.csv\", sep=\";\")\n",
    "df_lan2country_df = pd.read_csv('../data/language to country.csv')\n",
    "df_most_common_lang=pd.read_csv(\"../data/MostCommonLanguageByDirector.csv\")\n",
    "df_spliberg=pd.read_csv(\"../data/spielberg_awards.csv\",encoding='latin1')"
   ]
  },
  {
   "cell_type": "code",
   "execution_count": null,
   "metadata": {},
   "outputs": [],
   "source": []
  }
 ],
 "metadata": {
  "kernelspec": {
   "display_name": "Python 3.8.12 64-bit ('shims')",
   "language": "python",
   "name": "python3"
  },
  "language_info": {
   "codemirror_mode": {
    "name": "ipython",
    "version": 3
   },
   "file_extension": ".py",
   "mimetype": "text/x-python",
   "name": "python",
   "nbconvert_exporter": "python",
   "pygments_lexer": "ipython3",
   "version": "3.8.12"
  },
  "orig_nbformat": 4,
  "vscode": {
   "interpreter": {
    "hash": "cd8d3f85441a3ccb56bcccd13511547e2e9d980067116837260b630037391840"
   }
  }
 },
 "nbformat": 4,
 "nbformat_minor": 2
}
