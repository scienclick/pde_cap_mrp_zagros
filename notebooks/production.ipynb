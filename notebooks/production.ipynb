{
 "cells": [
  {
   "cell_type": "markdown",
   "metadata": {},
   "source": [
    "## 0- import Section 📚"
   ]
  },
  {
   "cell_type": "code",
   "execution_count": 1,
   "metadata": {},
   "outputs": [],
   "source": [
    "#region imports\n",
    "%load_ext autoreload \n",
    "%autoreload 2 \n",
    "import pandas as pd\n",
    "import random\n",
    "from sklearn.neighbors import KNeighborsRegressor\n",
    "from sklearn import set_config\n",
    "set_config(display=\"diagram\")\n",
    "\n",
    "RANDOMSEED = 100\n",
    "DISPLAY_WIDTH = 400\n",
    "DISPLAYMAX_COLUMNS = 25\n",
    "\n",
    "random.seed(RANDOMSEED)\n",
    "pd.set_option('display.width', DISPLAY_WIDTH)\n",
    "pd.set_option('display.max_columns', DISPLAYMAX_COLUMNS)\n",
    "import warnings\n",
    "warnings.filterwarnings('ignore')\n",
    "warnings.filterwarnings(action='once')\n",
    "\n",
    "#endregion"
   ]
  },
  {
   "cell_type": "markdown",
   "metadata": {},
   "source": [
    "## 1- import data"
   ]
  },
  {
   "cell_type": "code",
   "execution_count": 6,
   "metadata": {},
   "outputs": [],
   "source": [
    "# %pwd # to see thecurrent directory\n",
    "# %cd '/home/ashamsa/code/pc/pde_cap_mrp_zagros'"
   ]
  },
  {
   "cell_type": "code",
   "execution_count": 7,
   "metadata": {},
   "outputs": [
    {
     "name": "stdout",
     "output_type": "stream",
     "text": [
      "starting class\n"
     ]
    },
    {
     "name": "stderr",
     "output_type": "stream",
     "text": [
      "/home/ashamsa/.pyenv/versions/3.8.12/envs/.pde_cap/lib/python3.8/site-packages/sklearn/feature_extraction/text.py:524: UserWarning: The parameter 'token_pattern' will not be used since 'tokenizer' is not None'\n",
      "  warnings.warn(\n"
     ]
    }
   ],
   "source": [
    "from mrputils.loaders import DataLoader\n",
    "from mrputils.processors import tweak_data,tweak_data4_prediction\n",
    "\n",
    "dp=DataLoader(\"data\")\n",
    "dp.get_data() #loading all the data\n",
    "\n",
    "df_awards=dp.df_awards\n",
    "df_all_casting=dp.df_all_casting\n",
    "df_all_details = dp.df_all_details\n",
    "\n",
    "\n",
    "__,df_nulls=tweak_data(df_all_casting,df_all_details,df_awards)\n"
   ]
  },
  {
   "cell_type": "markdown",
   "metadata": {},
   "source": [
    "## 2- defining X,y  📚"
   ]
  },
  {
   "cell_type": "code",
   "execution_count": 8,
   "metadata": {},
   "outputs": [],
   "source": [
    "X=df_nulls.drop(columns=[\"id\",\"revenue\",\"popularity\"])\n",
    "X_with_id=df_nulls.drop(columns=[\"revenue\",\"popularity\"])\n",
    "# X=df.drop(columns=[\"revenue\",\"popularity\"])\n",
    "y=df_nulls[[\"revenue\",\"popularity\"]]\n",
    "target_1=y.iloc[:,0]\n",
    "target_2=y.iloc[:,1]\n"
   ]
  },
  {
   "cell_type": "markdown",
   "metadata": {},
   "source": [
    "## 3- import all models\n"
   ]
  },
  {
   "cell_type": "code",
   "execution_count": 9,
   "metadata": {},
   "outputs": [
    {
     "name": "stderr",
     "output_type": "stream",
     "text": [
      "/tmp/ipykernel_29055/223644156.py:2: ResourceWarning: unclosed file <_io.BufferedReader name='models/finalized_model.sav'>\n",
      "  M=pickle.load(open('models/finalized_model.sav',\"rb\")) # model for revenue\n",
      "ResourceWarning: Enable tracemalloc to get the object allocation traceback\n",
      "/tmp/ipykernel_29055/223644156.py:3: ResourceWarning: unclosed file <_io.BufferedReader name='models/preprocessor_x.sav'>\n",
      "  preprocessor=pickle.load(open('models/preprocessor_x.sav',\"rb\")) #processor #1\n",
      "ResourceWarning: Enable tracemalloc to get the object allocation traceback\n",
      "/tmp/ipykernel_29055/223644156.py:4: ResourceWarning: unclosed file <_io.BufferedReader name='models/preprocessor_x_id.sav'>\n",
      "  preprocessor_with_id=pickle.load(open('models/preprocessor_x_id.sav',\"rb\")) # processor #2\n",
      "ResourceWarning: Enable tracemalloc to get the object allocation traceback\n",
      "/tmp/ipykernel_29055/223644156.py:5: ResourceWarning: unclosed file <_io.BufferedReader name='models/popularity.sav'>\n",
      "  M_pop=pickle.load(open('models/popularity.sav',\"rb\"))#model popularity\n",
      "ResourceWarning: Enable tracemalloc to get the object allocation traceback\n",
      "/tmp/ipykernel_29055/223644156.py:6: ResourceWarning: unclosed file <_io.BufferedReader name='models/knn_similarity.sav'>\n",
      "  knn_model=pickle.load(open('models/knn_similarity.sav',\"rb\"))\n",
      "ResourceWarning: Enable tracemalloc to get the object allocation traceback\n"
     ]
    }
   ],
   "source": [
    "import pickle\n",
    "M=pickle.load(open('models/finalized_model.sav',\"rb\")) # model for revenue\n",
    "preprocessor=pickle.load(open('models/preprocessor_x.sav',\"rb\")) #processor #1\n",
    "preprocessor_with_id=pickle.load(open('models/preprocessor_x_id.sav',\"rb\")) # processor #2\n",
    "M_pop=pickle.load(open('models/popularity.sav',\"rb\"))#model popularity\n",
    "knn_model=pickle.load(open('models/knn_similarity.sav',\"rb\"))"
   ]
  },
  {
   "cell_type": "markdown",
   "metadata": {},
   "source": [
    "## 4- Prediction"
   ]
  },
  {
   "cell_type": "code",
   "execution_count": 10,
   "metadata": {},
   "outputs": [
    {
     "name": "stderr",
     "output_type": "stream",
     "text": [
      "/home/ashamsa/.pyenv/versions/3.8.12/envs/.pde_cap/lib/python3.8/site-packages/sklearn/feature_extraction/text.py:524: UserWarning: The parameter 'token_pattern' will not be used since 'tokenizer' is not None'\n",
      "  warnings.warn(\n"
     ]
    }
   ],
   "source": [
    "#sample record format for prediction; sample data called xx\n",
    "id=597\n",
    "record_data=df_all_details.query(\"id==@id\")\n",
    "record_casting=df_all_casting.query(\"id==@id\")\n",
    "xx=tweak_data4_prediction(df_all_casting,record_casting,df_all_details,record_data,df_awards)\n",
    "\n"
   ]
  },
  {
   "cell_type": "code",
   "execution_count": 11,
   "metadata": {},
   "outputs": [
    {
     "data": {
      "text/plain": [
       "array([1.7235707e+09], dtype=float32)"
      ]
     },
     "execution_count": 11,
     "metadata": {},
     "output_type": "execute_result"
    }
   ],
   "source": [
    "M.predict(xx) #prediction"
   ]
  },
  {
   "cell_type": "markdown",
   "metadata": {},
   "source": [
    "## 14- Finding similar movies"
   ]
  },
  {
   "cell_type": "code",
   "execution_count": 13,
   "metadata": {},
   "outputs": [],
   "source": [
    "num_neighbors=5 # Return the distances and index of the 2 closest points"
   ]
  },
  {
   "cell_type": "code",
   "execution_count": 12,
   "metadata": {},
   "outputs": [],
   "source": [
    "xx_processed=preprocessor.transform(xx)#sample processed\n",
    "X_with_id_processed=pd.DataFrame(preprocessor_with_id.transform(X_with_id),columns=preprocessor_with_id.get_feature_names_out())"
   ]
  },
  {
   "cell_type": "code",
   "execution_count": 14,
   "metadata": {},
   "outputs": [
    {
     "name": "stderr",
     "output_type": "stream",
     "text": [
      "/home/ashamsa/.pyenv/versions/3.8.12/envs/.pde_cap/lib/python3.8/site-packages/sklearn/base.py:450: UserWarning: X does not have valid feature names, but KNeighborsRegressor was fitted with feature names\n",
      "  warnings.warn(\n"
     ]
    },
    {
     "data": {
      "text/html": [
       "<div>\n",
       "<style scoped>\n",
       "    .dataframe tbody tr th:only-of-type {\n",
       "        vertical-align: middle;\n",
       "    }\n",
       "\n",
       "    .dataframe tbody tr th {\n",
       "        vertical-align: top;\n",
       "    }\n",
       "\n",
       "    .dataframe thead th {\n",
       "        text-align: right;\n",
       "    }\n",
       "</style>\n",
       "<table border=\"1\" class=\"dataframe\">\n",
       "  <thead>\n",
       "    <tr style=\"text-align: right;\">\n",
       "      <th></th>\n",
       "      <th>id</th>\n",
       "      <th>title</th>\n",
       "      <th>genres</th>\n",
       "      <th>release_date</th>\n",
       "      <th>revenue</th>\n",
       "      <th>popularity</th>\n",
       "      <th>director_name</th>\n",
       "      <th>actor1_name</th>\n",
       "      <th>actor2_name</th>\n",
       "      <th>actor3_name</th>\n",
       "    </tr>\n",
       "  </thead>\n",
       "  <tbody>\n",
       "    <tr>\n",
       "      <th>0</th>\n",
       "      <td>58</td>\n",
       "      <td>Pirates of the Caribbean: Dead Man's Chest</td>\n",
       "      <td>Adventure|Fantasy|Action</td>\n",
       "      <td>20/06/2006</td>\n",
       "      <td>1065659812</td>\n",
       "      <td>10.493411</td>\n",
       "      <td>Gore Verbinski</td>\n",
       "      <td>Johnny Depp</td>\n",
       "      <td>Orlando Bloom</td>\n",
       "      <td>Keira Knightley</td>\n",
       "    </tr>\n",
       "    <tr>\n",
       "      <th>1</th>\n",
       "      <td>597</td>\n",
       "      <td>Titanic</td>\n",
       "      <td>Drama|Romance|Thriller</td>\n",
       "      <td>18/11/1997</td>\n",
       "      <td>1845034188</td>\n",
       "      <td>10.517521</td>\n",
       "      <td>James Cameron</td>\n",
       "      <td>Kate Winslet</td>\n",
       "      <td>Leonardo DiCaprio</td>\n",
       "      <td>Frances Fisher</td>\n",
       "    </tr>\n",
       "    <tr>\n",
       "      <th>2</th>\n",
       "      <td>14161</td>\n",
       "      <td>2012</td>\n",
       "      <td>Action|Adventure|Science Fiction</td>\n",
       "      <td>10/10/2009</td>\n",
       "      <td>769653595</td>\n",
       "      <td>5.268971</td>\n",
       "      <td>Roland Emmerich</td>\n",
       "      <td>John Cusack</td>\n",
       "      <td>Amanda Peet</td>\n",
       "      <td>Chiwetel Ejiofor</td>\n",
       "    </tr>\n",
       "    <tr>\n",
       "      <th>3</th>\n",
       "      <td>37724</td>\n",
       "      <td>Skyfall</td>\n",
       "      <td>Action|Adventure|Thriller</td>\n",
       "      <td>25/10/2012</td>\n",
       "      <td>1108561013</td>\n",
       "      <td>9.818739</td>\n",
       "      <td>Sam Mendes</td>\n",
       "      <td>Daniel Craig</td>\n",
       "      <td>Judi Dench</td>\n",
       "      <td>Javier Bardem</td>\n",
       "    </tr>\n",
       "    <tr>\n",
       "      <th>4</th>\n",
       "      <td>102382</td>\n",
       "      <td>The Amazing Spider-Man 2</td>\n",
       "      <td>Action|Adventure|Fantasy</td>\n",
       "      <td>16/04/2014</td>\n",
       "      <td>705717432</td>\n",
       "      <td>6.966996</td>\n",
       "      <td>Marc Webb</td>\n",
       "      <td>Andrew Garfield</td>\n",
       "      <td>Emma Stone</td>\n",
       "      <td>Jamie Foxx</td>\n",
       "    </tr>\n",
       "  </tbody>\n",
       "</table>\n",
       "</div>"
      ],
      "text/plain": [
       "       id                                       title                            genres release_date     revenue popularity    director_name      actor1_name        actor2_name       actor3_name\n",
       "0      58  Pirates of the Caribbean: Dead Man's Chest          Adventure|Fantasy|Action   20/06/2006  1065659812  10.493411   Gore Verbinski      Johnny Depp      Orlando Bloom   Keira Knightley\n",
       "1     597                                     Titanic            Drama|Romance|Thriller   18/11/1997  1845034188  10.517521    James Cameron     Kate Winslet  Leonardo DiCaprio    Frances Fisher\n",
       "2   14161                                        2012  Action|Adventure|Science Fiction   10/10/2009   769653595   5.268971  Roland Emmerich      John Cusack        Amanda Peet  Chiwetel Ejiofor\n",
       "3   37724                                     Skyfall         Action|Adventure|Thriller   25/10/2012  1108561013   9.818739       Sam Mendes     Daniel Craig         Judi Dench     Javier Bardem\n",
       "4  102382                    The Amazing Spider-Man 2          Action|Adventure|Fantasy   16/04/2014   705717432   6.966996        Marc Webb  Andrew Garfield         Emma Stone        Jamie Foxx"
      ]
     },
     "execution_count": 14,
     "metadata": {},
     "output_type": "execute_result"
    }
   ],
   "source": [
    "\n",
    "similars=list(knn_model.kneighbors(xx_processed,n_neighbors=num_neighbors)[1][0])\n",
    "similar_ids=list(X_with_id_processed.iloc[similars].remainder__id.values)\n",
    "df_all_details.query('id  in @similar_ids')[[\"id\",\"title\",\"genres\",\"release_date\",\"revenue\",\"popularity\"]].merge(\n",
    "    df_all_casting.query('id  in @similar_ids')[[\"id\",\"director_name\",\"actor1_name\",\"actor2_name\",\"actor3_name\"]],on=\"id\"\n",
    ")\n"
   ]
  },
  {
   "cell_type": "markdown",
   "metadata": {},
   "source": [
    "## 15- model predict popularity"
   ]
  },
  {
   "cell_type": "code",
   "execution_count": 15,
   "metadata": {},
   "outputs": [
    {
     "data": {
      "text/plain": [
       "array([9.8802595], dtype=float32)"
      ]
     },
     "execution_count": 15,
     "metadata": {},
     "output_type": "execute_result"
    }
   ],
   "source": [
    "\n",
    "M_pop.predict(xx) #prediction"
   ]
  },
  {
   "cell_type": "code",
   "execution_count": null,
   "metadata": {},
   "outputs": [],
   "source": []
  }
 ],
 "metadata": {
  "kernelspec": {
   "display_name": "Python 3.8.12 64-bit ('.pde_cap')",
   "language": "python",
   "name": "python3"
  },
  "language_info": {
   "codemirror_mode": {
    "name": "ipython",
    "version": 3
   },
   "file_extension": ".py",
   "mimetype": "text/x-python",
   "name": "python",
   "nbconvert_exporter": "python",
   "pygments_lexer": "ipython3",
   "version": "3.8.12"
  },
  "orig_nbformat": 4,
  "vscode": {
   "interpreter": {
    "hash": "152f411339478a689b84c8780114d41462001db04eea756b82549cfffc8fe183"
   }
  }
 },
 "nbformat": 4,
 "nbformat_minor": 2
}
